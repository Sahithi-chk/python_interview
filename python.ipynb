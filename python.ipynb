{
 "cells": [
  {
   "cell_type": "markdown",
   "id": "d3f6da25-a598-4edf-8210-1cf8e94588aa",
   "metadata": {},
   "source": [
    "### Get the last no\n"
   ]
  },
  {
   "cell_type": "code",
   "execution_count": 1,
   "id": "234cc661-8341-4253-b7a6-ea4b2ffee55c",
   "metadata": {},
   "outputs": [
    {
     "name": "stdout",
     "output_type": "stream",
     "text": [
      "5\n"
     ]
    }
   ],
   "source": [
    "a=12345\n",
    "print(a%10)"
   ]
  },
  {
   "cell_type": "markdown",
   "id": "b6b3134c-82b9-4871-b546-da37b29c5beb",
   "metadata": {},
   "source": [
    "### converting to  list of dictionaries"
   ]
  },
  {
   "cell_type": "code",
   "execution_count": 14,
   "id": "de910ad5-e26e-4800-bdfb-1a438b0016af",
   "metadata": {},
   "outputs": [
    {
     "data": {
      "text/plain": [
       "[{1: 'apple'}, {2: 'mango'}, {3: 'banana'}]"
      ]
     },
     "execution_count": 14,
     "metadata": {},
     "output_type": "execute_result"
    }
   ],
   "source": [
    "a=[1,2,3,4]\n",
    "b=[\"apple\",\"mango\",\"banana\"]\n",
    "c=[{i:j} for i,j in zip(a,b)]\n",
    "c"
   ]
  },
  {
   "cell_type": "markdown",
   "id": "bd015a66-70a3-419c-8281-ad3c5ec09c2a",
   "metadata": {},
   "source": [
    "### list comphrehension"
   ]
  },
  {
   "cell_type": "code",
   "execution_count": 16,
   "id": "57fa4aac-07ac-4b3c-a9c5-b2e6f3935b5c",
   "metadata": {},
   "outputs": [
    {
     "data": {
      "text/plain": [
       "[0, 1, 2, 3, 4, 5, 6, 7, 8, 9]"
      ]
     },
     "execution_count": 16,
     "metadata": {},
     "output_type": "execute_result"
    }
   ],
   "source": [
    "a=[i for i in range(10)]\n",
    "a"
   ]
  },
  {
   "cell_type": "markdown",
   "id": "f92f30d0-bf98-43e0-9def-a389dcdc6392",
   "metadata": {},
   "source": [
    "### dictionry comphrehension"
   ]
  },
  {
   "cell_type": "code",
   "execution_count": 27,
   "id": "1924350e-4cde-494a-ad61-8222d07273e3",
   "metadata": {},
   "outputs": [
    {
     "data": {
      "text/plain": [
       "{1: 1, 2: 8, 3: 27, 4: 64, 5: 125, 6: 216, 7: 343, 8: 512, 9: 729}"
      ]
     },
     "execution_count": 27,
     "metadata": {},
     "output_type": "execute_result"
    }
   ],
   "source": [
    "a={i:i**3 for i in range(1,10)}\n",
    "a"
   ]
  },
  {
   "cell_type": "markdown",
   "id": "07f00c37-077b-4b93-a420-4e389c5a612a",
   "metadata": {},
   "source": [
    "### random"
   ]
  },
  {
   "cell_type": "code",
   "execution_count": 48,
   "id": "1b897f08-eeca-4701-b059-1579c085cf6d",
   "metadata": {},
   "outputs": [
    {
     "name": "stdout",
     "output_type": "stream",
     "text": [
      "3\n",
      "[2, 6, 4, 5, 3, 1]\n"
     ]
    }
   ],
   "source": [
    "import random\n",
    "l=[1,2,3,4,5,6]\n",
    "random_num=random.choice(l)\n",
    "print(random_num)\n",
    "random.shuffle(l)\n",
    "print(l)\n"
   ]
  },
  {
   "cell_type": "markdown",
   "id": "42bf8390-7afd-475b-b5d2-5a68a1c20bf2",
   "metadata": {},
   "source": [
    "### enumerate\n"
   ]
  },
  {
   "cell_type": "code",
   "execution_count": 51,
   "id": "f8687821-11bc-43d0-8821-2e2041d3535d",
   "metadata": {},
   "outputs": [
    {
     "name": "stdout",
     "output_type": "stream",
     "text": [
      "(0, 'linux')\n",
      "(1, 'devops')\n",
      "(2, 'python')\n",
      "(3, 'java')\n",
      "(4, 'rust')\n",
      "=============\n",
      "Index: 0, Value: apple\n",
      "Index: 1, Value: banana\n",
      "Index: 2, Value: orange\n"
     ]
    }
   ],
   "source": [
    "a=[\"linux\",\"devops\",\"python\",\"java\",\"rust\"]\n",
    "for i in enumerate(a):\n",
    "    print(i)\n",
    "print(\"=============\")\n",
    "my_list = ['apple', 'banana', 'orange']\n",
    "for index, value in enumerate(my_list):\n",
    "    print(f\"Index: {index}, Value: {value}\")\n"
   ]
  },
  {
   "cell_type": "markdown",
   "id": "d9b0c3be-4403-4526-baeb-fbd78ccb4172",
   "metadata": {},
   "source": [
    "### occurence of value  "
   ]
  },
  {
   "cell_type": "code",
   "execution_count": 53,
   "id": "6055514c-ae5f-4b64-99a5-a0f06ec4569d",
   "metadata": {},
   "outputs": [
    {
     "name": "stdout",
     "output_type": "stream",
     "text": [
      "Counter({1: 3, 2: 2, 3: 2, 4: 1})\n",
      "{1: 3, 2: 2, 3: 2, 4: 1}\n"
     ]
    }
   ],
   "source": [
    "from collections import Counter\n",
    "a=[1,1,2,3,1,2,3,4]\n",
    "print(Counter(a))\n",
    "\n",
    "# 2nd method\n",
    "d={}\n",
    "for i in a:\n",
    "    if i in d:\n",
    "        d[i]=d[i]+1\n",
    "    else:\n",
    "        d[i]=1\n",
    "print(d)\n"
   ]
  },
  {
   "cell_type": "markdown",
   "id": "758d1788-de92-43ce-9433-b14b6d3b9741",
   "metadata": {},
   "source": [
    " ### iterator and generator"
   ]
  },
  {
   "cell_type": "code",
   "execution_count": 65,
   "id": "46d733bc-d704-467c-baeb-9b5745364638",
   "metadata": {},
   "outputs": [
    {
     "data": {
      "text/plain": [
       "4"
      ]
     },
     "execution_count": 65,
     "metadata": {},
     "output_type": "execute_result"
    }
   ],
   "source": [
    "a=[1,2,3,4,5]\n",
    "b=iter(a)\n",
    "next(b)\n",
    "\n",
    "\n",
    "#generator\n",
    "def hello(n):\n",
    "    for i in range(2,n):\n",
    "        yield i**2  # it will make iterator\n",
    "a=hello(4)\n",
    "next(a)\n",
    "# for i in hello(4):\n",
    "#     print(i)\n"
   ]
  },
  {
   "cell_type": "markdown",
   "id": "b20afe22-0ae5-4858-9ee2-b01245a008d7",
   "metadata": {},
   "source": [
    "### sorted and sort\n"
   ]
  },
  {
   "cell_type": "code",
   "execution_count": 69,
   "id": "6bfcc003-38d9-4ca4-96ff-9e7ad29ca284",
   "metadata": {},
   "outputs": [
    {
     "name": "stdout",
     "output_type": "stream",
     "text": [
      "[1, 2, 3, 4]\n",
      "[3, 2, 1, 4]\n",
      "[1, 2, 3, 5, 21]\n"
     ]
    }
   ],
   "source": [
    "a=[3,2,1,4]\n",
    "print(sorted(a))\n",
    "print(a)\n",
    "\n",
    "b=[5,3,21,2,1]\n",
    "b.sort()\n",
    "print(b)"
   ]
  },
  {
   "cell_type": "markdown",
   "id": "99558df5-a5fe-474b-8ed8-da05d6744ca4",
   "metadata": {},
   "source": [
    "### decorator \n"
   ]
  },
  {
   "cell_type": "code",
   "execution_count": 79,
   "id": "57f31149-6014-430f-a7b7-11f62aed4894",
   "metadata": {},
   "outputs": [
    {
     "name": "stdout",
     "output_type": "stream",
     "text": [
      "added som e functionality\n",
      "THIS IS THE DEPLOYMENT CODE\n",
      "added some functionality after deployment code\n"
     ]
    }
   ],
   "source": [
    "def main(fun):\n",
    "    def sub():\n",
    "        print(\"added som e functionality\")\n",
    "        a=fun()\n",
    "        mod=a.upper()\n",
    "        print(mod)\n",
    "        print(\"added some functionality after deployment code\")\n",
    "    return sub \n",
    "@main\n",
    "\n",
    "def hello():\n",
    "    return \"this is the deployment code\"\n",
    "hello()"
   ]
  },
  {
   "cell_type": "markdown",
   "id": "fb7c81b5-3959-461c-9acf-403a89d2ae22",
   "metadata": {},
   "source": [
    "### convert list to string "
   ]
  },
  {
   "cell_type": "code",
   "execution_count": 89,
   "id": "5709a243-eddc-4399-b1c0-ac983817e25a",
   "metadata": {},
   "outputs": [
    {
     "name": "stdout",
     "output_type": "stream",
     "text": [
      "12345\n",
      "12345\n"
     ]
    }
   ],
   "source": [
    "a=[1,2,3,4,5]\n",
    "b=\"\"\n",
    "for i in a:\n",
    "    b=b+str(i)\n",
    "print(b)\n",
    "# 2nd method\n",
    "c=\"\"\n",
    "for i in a:\n",
    "    c=c+\"\".join(str(i))\n",
    "print(c)"
   ]
  },
  {
   "cell_type": "markdown",
   "id": "1de9cae7-db15-4972-a3bb-19dafced5ab2",
   "metadata": {},
   "source": [
    "### break and continue"
   ]
  },
  {
   "cell_type": "code",
   "execution_count": 93,
   "id": "4a4450a1-79cb-42e5-9e30-07320695d43f",
   "metadata": {},
   "outputs": [
    {
     "name": "stdout",
     "output_type": "stream",
     "text": [
      "1\n",
      "2\n",
      "3\n",
      "4\n",
      "=================\n",
      "1\n",
      "3\n",
      "4\n",
      "5\n"
     ]
    }
   ],
   "source": [
    "a=[1,2,3,4,5]\n",
    "for i in a:\n",
    "    if i==5:\n",
    "        break\n",
    "    print(i)\n",
    "print(\"=================\")\n",
    "for j in a:\n",
    "    if j==2:\n",
    "        continue\n",
    "    print(j)\n",
    "    \n",
    "    "
   ]
  },
  {
   "cell_type": "markdown",
   "id": "afd4267d-0ee7-4a14-8983-1177cbafd536",
   "metadata": {},
   "source": [
    "### factorial "
   ]
  },
  {
   "cell_type": "code",
   "execution_count": 96,
   "id": "c194b8cd-7ac1-4abd-a11d-0a12f7348ac0",
   "metadata": {},
   "outputs": [
    {
     "name": "stdout",
     "output_type": "stream",
     "text": [
      "120\n"
     ]
    }
   ],
   "source": [
    "a=1\n",
    "for i in range(5,0,-1):\n",
    "    a=a*i\n",
    "print(a)\n",
    "    "
   ]
  },
  {
   "cell_type": "markdown",
   "id": "fe051e7f-1aaf-4cef-af06-756225bc7927",
   "metadata": {},
   "source": [
    "### Prime no "
   ]
  },
  {
   "cell_type": "code",
   "execution_count": 98,
   "id": "17d9d5d8-fadd-4b31-81da-7d8f40a5cd75",
   "metadata": {},
   "outputs": [
    {
     "name": "stdout",
     "output_type": "stream",
     "text": [
      "5\n",
      "7\n",
      "11\n",
      "13\n",
      "17\n",
      "19\n",
      "23\n",
      "29\n"
     ]
    }
   ],
   "source": [
    "for i in range(5,30):\n",
    "    for j in range(2,i):\n",
    "        if i%j==0:\n",
    "            break\n",
    "    else:\n",
    "        print(i)\n",
    "    "
   ]
  },
  {
   "cell_type": "markdown",
   "id": "984b1f69-423b-4eb3-9a99-6d14f3e5d79a",
   "metadata": {},
   "source": [
    "### pickling and unpickling "
   ]
  },
  {
   "cell_type": "code",
   "execution_count": 103,
   "id": "48c2b492-747d-4ee6-8038-e1c1c54427be",
   "metadata": {},
   "outputs": [
    {
     "name": "stdout",
     "output_type": "stream",
     "text": [
      "b'\\x80\\x04\\x95\\x0e\\x00\\x00\\x00\\x00\\x00\\x00\\x00]\\x94(K\\x01K\\x02MY\\x01K-e.'\n",
      "### unpickling ######\n"
     ]
    },
    {
     "data": {
      "text/plain": [
       "[1, 2, 345, 45]"
      ]
     },
     "execution_count": 103,
     "metadata": {},
     "output_type": "execute_result"
    }
   ],
   "source": [
    "#pickle---> object to bytes\n",
    "#unpickle --->bytes to objets\n",
    "#note objects whi aaare not loaded into files can not be transferred to server or other location \n",
    "import pickle\n",
    "a=[1,2,345,45]\n",
    "byte=pickle.dumps(a)\n",
    "print(byte)\n",
    "\n",
    "print(\"### unpickling ######\") \n",
    "l=pickle.loads(byte)\n",
    "l"
   ]
  },
  {
   "cell_type": "code",
   "execution_count": 113,
   "id": "e12d52dc-a6c9-4ba3-af5b-15eae10a6897",
   "metadata": {},
   "outputs": [
    {
     "name": "stdout",
     "output_type": "stream",
     "text": [
      "[1, 2, 3, 4, 5, 89]\n"
     ]
    }
   ],
   "source": [
    "import pickle\n",
    "a = [1, 2, 3, 4, 5, 89]\n",
    "with open(\"obj_byte.txt\", \"wb\") as f:\n",
    "    pickle.dump(a, f)\n",
    "\n",
    "#unpickling \n",
    "with open(\"obj_byte.txt\", \"rb\") as f:\n",
    "    data=pickle.load(f)\n",
    "    print(data)\n",
    "\n",
    "\n",
    "#pickle.dumps() --->obj-bytes \n",
    "#pickle.dump()--->obj--bytes(stores in files)\n",
    "#pickle.loads()-->byte-->obj\n",
    "#pickle.load()-->byte--object(reads from file)\n"
   ]
  },
  {
   "cell_type": "markdown",
   "id": "b7298e8e-f7ba-4999-a807-75fdab10165d",
   "metadata": {},
   "source": [
    "### json serialzation and edeserialization"
   ]
  },
  {
   "cell_type": "code",
   "execution_count": 117,
   "id": "8b8d413c-27d5-4a40-a3e1-d4569efefc21",
   "metadata": {},
   "outputs": [
    {
     "name": "stdout",
     "output_type": "stream",
     "text": [
      "<class 'str'>\n",
      "<class 'list'>\n"
     ]
    }
   ],
   "source": [
    "# converting object to string \n",
    "import json\n",
    "a=[1,2,3,4]\n",
    "b=json.dumps(a)   \n",
    "print(type(b))\n",
    "\n",
    "c=json.loads(b)  # string to object \n",
    "print(type(c))"
   ]
  },
  {
   "cell_type": "code",
   "execution_count": 128,
   "id": "086b86c2-5d21-4c21-9326-cff95443f79d",
   "metadata": {},
   "outputs": [
    {
     "name": "stdout",
     "output_type": "stream",
     "text": [
      "[1, 2, 3, 4] <class 'list'>\n"
     ]
    }
   ],
   "source": [
    "import json\n",
    "a=[1,2,3,4]\n",
    "with open(\"json_se.txt\",\"w\") as f:\n",
    "    json.dump(a,f)\n",
    "\n",
    "with open(\"json_se.txt\",\"r\") as f:\n",
    "    data=json.load(f)\n",
    "print(data,type(data))\n",
    "    "
   ]
  },
  {
   "cell_type": "markdown",
   "id": "a4b800f4-e37f-4566-a379-c2c3324710d6",
   "metadata": {},
   "source": [
    "### summing each element"
   ]
  },
  {
   "cell_type": "code",
   "execution_count": 130,
   "id": "dce1fe34-ccef-494c-8387-b05409d4efb0",
   "metadata": {},
   "outputs": [
    {
     "name": "stdout",
     "output_type": "stream",
     "text": [
      "[1, 3, 5, 7]\n"
     ]
    }
   ],
   "source": [
    "a=[1,2,3,4]\n",
    "b=[a[0]]\n",
    "c=0\n",
    "for i in range(1,len(a)):\n",
    "    b.append(a[i]+a[i-1])\n",
    "print(b)"
   ]
  },
  {
   "cell_type": "markdown",
   "id": "d8dd2a11-59dd-4e11-8954-630ce006bc71",
   "metadata": {},
   "source": [
    "### filter map"
   ]
  },
  {
   "cell_type": "code",
   "execution_count": 132,
   "id": "f8030fb6-0aa8-4aec-934a-be37ac5ec9d6",
   "metadata": {},
   "outputs": [
    {
     "name": "stdout",
     "output_type": "stream",
     "text": [
      "Squared Numbers: [1, 4, 9, 16, 25, 36, 49, 64, 81]\n",
      "Even Numbers: [2, 4, 6, 8]\n"
     ]
    }
   ],
   "source": [
    "numbers = [1, 2, 3, 4, 5, 6, 7, 8, 9]\n",
    "\n",
    "# Using map to square each element\n",
    "squared_numbers = list(map(lambda x: x**2, numbers))\n",
    "print(\"Squared Numbers:\", squared_numbers)\n",
    "\n",
    "# Using filter to keep only even numbers\n",
    "even_numbers = list(filter(lambda x: x % 2 == 0, numbers))\n",
    "print(\"Even Numbers:\", even_numbers)\n",
    "\n"
   ]
  },
  {
   "cell_type": "code",
   "execution_count": 134,
   "id": "570add31-6047-46d4-b58c-fa2bb9ef71e1",
   "metadata": {},
   "outputs": [
    {
     "data": {
      "text/plain": [
       "[('Rachel', 19), ('Chandler', 21), ('Ross', 20)]"
      ]
     },
     "execution_count": 134,
     "metadata": {},
     "output_type": "execute_result"
    }
   ],
   "source": [
    "friends = [(\"Rachel\",19),\n",
    "           (\"Monica\",18),\n",
    "           (\"Phoebe\",17),\n",
    "           (\"Joey\",16),\n",
    "           (\"Chandler\",21),\n",
    "           (\"Ross\",20)]\n",
    "\n",
    "age= lambda data:data[1]>18\n",
    "res=list(filter(age,friends))\n",
    "res"
   ]
  },
  {
   "cell_type": "code",
   "execution_count": 135,
   "id": "07361d71-62ee-4e1f-9b6b-feca1a6df7a8",
   "metadata": {},
   "outputs": [
    {
     "data": {
      "text/plain": [
       "[38, 36, 34, 32, 42, 40]"
      ]
     },
     "execution_count": 135,
     "metadata": {},
     "output_type": "execute_result"
    }
   ],
   "source": [
    "friends = [(\"Rachel\",19),\n",
    "           (\"Monica\",18),\n",
    "           (\"Phoebe\",17),\n",
    "           (\"Joey\",16),\n",
    "           (\"Chandler\",21),\n",
    "           (\"Ross\",20)]\n",
    "\n",
    "age= lambda data:data[1]*2\n",
    "res=list(map(age,friends))\n",
    "res"
   ]
  },
  {
   "cell_type": "markdown",
   "id": "1fc55999-38a7-45de-ad5d-979820695a31",
   "metadata": {},
   "source": [
    "### reduce"
   ]
  },
  {
   "cell_type": "code",
   "execution_count": 138,
   "id": "fdfcf29e-91b9-414d-9780-292253300275",
   "metadata": {},
   "outputs": [
    {
     "data": {
      "text/plain": [
       "15"
      ]
     },
     "execution_count": 138,
     "metadata": {},
     "output_type": "execute_result"
    }
   ],
   "source": [
    "import functools\n",
    "a=[1,2,3,4,5]\n",
    "res=functools.reduce(lambda x,y:x+y,a)\n",
    "res\n",
    "\n",
    "res1=functools.reduce(lambda x,y"
   ]
  },
  {
   "cell_type": "markdown",
   "id": "965491e6-68cc-422d-9325-a4d3d010bb12",
   "metadata": {},
   "source": [
    "### adding element to tuples of list "
   ]
  },
  {
   "cell_type": "code",
   "execution_count": 8,
   "id": "99445d1c-8a32-4920-ad54-8a383759938c",
   "metadata": {},
   "outputs": [
    {
     "name": "stdout",
     "output_type": "stream",
     "text": [
      "(1234, 'hello', [1, 2, 3, 2])\n"
     ]
    }
   ],
   "source": [
    "a=(1234,\"hello\",[1,2,3])\n",
    "a[-1].append(2)\n",
    "print(a)"
   ]
  },
  {
   "cell_type": "markdown",
   "id": "748303f2-1210-4d88-b8a9-db51bc27922f",
   "metadata": {},
   "source": [
    "### while"
   ]
  },
  {
   "cell_type": "code",
   "execution_count": 143,
   "id": "15083e08-c9f0-45c0-afd2-a29590809b74",
   "metadata": {},
   "outputs": [
    {
     "name": "stdin",
     "output_type": "stream",
     "text": [
      "enter your name \n"
     ]
    },
    {
     "name": "stdout",
     "output_type": "stream",
     "text": [
      "please neter your name \n"
     ]
    },
    {
     "name": "stdin",
     "output_type": "stream",
     "text": [
      "enter your name \n"
     ]
    },
    {
     "name": "stdout",
     "output_type": "stream",
     "text": [
      "please neter your name \n"
     ]
    },
    {
     "name": "stdin",
     "output_type": "stream",
     "text": [
      "enter your name jav\n"
     ]
    },
    {
     "name": "stdout",
     "output_type": "stream",
     "text": [
      "hello,jav\n"
     ]
    }
   ],
   "source": [
    "name=input(\"enter your name\")\n",
    "while name ==\"\":\n",
    "    print(\"please neter your name \")\n",
    "    name=input(\"enter your name\")\n",
    "print(f\"hello,{name}\")"
   ]
  },
  {
   "cell_type": "markdown",
   "id": "713dccd9-779b-4ba0-80a2-906b8739bd90",
   "metadata": {},
   "source": [
    "### rock paper scissor game "
   ]
  },
  {
   "cell_type": "code",
   "execution_count": 176,
   "id": "5e5709dd-b0b6-45b3-99b4-644751fbcdb2",
   "metadata": {},
   "outputs": [
    {
     "name": "stdin",
     "output_type": "stream",
     "text": [
      "Enter rock ,paper,scissor  rock\n"
     ]
    },
    {
     "name": "stdout",
     "output_type": "stream",
     "text": [
      "Player: rock\n",
      "computer: paper\n",
      "you loose\n"
     ]
    },
    {
     "name": "stdin",
     "output_type": "stream",
     "text": [
      "you want to play agai-->yes/no: yes\n",
      "Enter rock ,paper,scissor  rock\n"
     ]
    },
    {
     "name": "stdout",
     "output_type": "stream",
     "text": [
      "Player: rock\n",
      "computer: paper\n",
      "you loose\n"
     ]
    },
    {
     "name": "stdin",
     "output_type": "stream",
     "text": [
      "you want to play agai-->yes/no: yes\n",
      "Enter rock ,paper,scissor  rock\n"
     ]
    },
    {
     "name": "stdout",
     "output_type": "stream",
     "text": [
      "Player: rock\n",
      "computer: scissor\n",
      "you won \n"
     ]
    },
    {
     "name": "stdin",
     "output_type": "stream",
     "text": [
      "you want to play agai-->yes/no: yes\n",
      "Enter rock ,paper,scissor  paper\n"
     ]
    },
    {
     "name": "stdout",
     "output_type": "stream",
     "text": [
      "Player: paper\n",
      "computer: paper\n",
      "Tie!\n"
     ]
    },
    {
     "name": "stdin",
     "output_type": "stream",
     "text": [
      "you want to play agai-->yes/no: yes\n",
      "Enter rock ,paper,scissor  paper\n"
     ]
    },
    {
     "name": "stdout",
     "output_type": "stream",
     "text": [
      "Player: paper\n",
      "computer: rock\n",
      "you loose\n"
     ]
    },
    {
     "name": "stdin",
     "output_type": "stream",
     "text": [
      "you want to play agai-->yes/no: no\n"
     ]
    },
    {
     "name": "stdout",
     "output_type": "stream",
     "text": [
      "Bye\n"
     ]
    }
   ],
   "source": [
    "import random\n",
    "while True:\n",
    "    choices=[\"rock\",\"paper\",\"scissor\"]\n",
    "    computer=random.choice(choices)\n",
    "    player=None\n",
    "    while player not in choices:\n",
    "       player=input(\"Enter rock ,paper,scissor \")\n",
    "    # print(f\"Player: {player}\")\n",
    "    # print(f\"computer: {computer}\")\n",
    "    if player==computer:\n",
    "        print(f\"Player: {player}\")\n",
    "        print(f\"computer: {computer}\")\n",
    "        print(\"Tie!\")\n",
    "    elif player==\"rock\":\n",
    "        if computer==\"scissor\":\n",
    "            print(f\"Player: {player}\")\n",
    "            print(f\"computer: {computer}\")\n",
    "            print(\"you won \")\n",
    "        if computer==\"paper\":\n",
    "            print(f\"Player: {player}\")\n",
    "            print(f\"computer: {computer}\")\n",
    "            print(\"you loose\")\n",
    "            \n",
    "    elif player==\"paper\":\n",
    "        if computer ==\"rock\":\n",
    "            print(f\"Player: {player}\")\n",
    "            print(f\"computer: {computer}\")\n",
    "            print(\"you loose\")\n",
    "        if computer==\"scissor\":\n",
    "             print(f\"Player: {player}\")\n",
    "             print(f\"computer: {computer}\")\n",
    "             print(\"you won\")\n",
    "    elif player==\"scissor\":\n",
    "        if computer ==\"rock\":\n",
    "            print(f\"Player: {player}\")\n",
    "            print(f\"computer: {computer}\")\n",
    "            print(\"you loose\")\n",
    "        if computer==\"paper\":\n",
    "             print(f\"Player: {player}\")\n",
    "             print(f\"computer: {computer}\")\n",
    "             print(\"you won \")\n",
    "    play_again=input(\"you want to play agai-->yes/no:\").lower()\n",
    "    if play_again!=\"yes\":\n",
    "            break\n",
    "print(\"Bye\")"
   ]
  },
  {
   "cell_type": "markdown",
   "id": "7c5283b4-5cbc-4fa4-acaa-3fd1b1b8fbe8",
   "metadata": {},
   "source": [
    "### oops instant varibales,class varibale"
   ]
  },
  {
   "cell_type": "code",
   "execution_count": 193,
   "id": "24bd3bc9-e98d-4f4d-a9aa-ef756f2afa92",
   "metadata": {},
   "outputs": [
    {
     "data": {
      "text/plain": [
       "'delhi'"
      ]
     },
     "execution_count": 193,
     "metadata": {},
     "output_type": "execute_result"
    }
   ],
   "source": [
    "class Hello:\n",
    "    inputs=3   # class vaiables\n",
    "    def __init__(self,name,address,dep):\n",
    "        self.name=name   # instant variables \n",
    "        self.address=address # instant variables \n",
    "        self.dep=dep # instant variables \n",
    "    def info(self):\n",
    "        print(\"sample oops programe\")\n",
    "object1=Hello(\"joe\",\"delhi\",\"cse\")\n",
    "object1.name\n",
    "object1.address\n"
   ]
  },
  {
   "cell_type": "code",
   "execution_count": 194,
   "id": "f9bf4b14-c427-46d4-9dd7-de6b201729e3",
   "metadata": {},
   "outputs": [
    {
     "name": "stdout",
     "output_type": "stream",
     "text": [
      "sample oops programe\n"
     ]
    }
   ],
   "source": [
    "object1.info()"
   ]
  },
  {
   "cell_type": "code",
   "execution_count": 196,
   "id": "6336c30a-560c-4517-9478-39356050072d",
   "metadata": {},
   "outputs": [
    {
     "data": {
      "text/plain": [
       "3"
      ]
     },
     "execution_count": 196,
     "metadata": {},
     "output_type": "execute_result"
    }
   ],
   "source": [
    "object1.inputs  # accesing class variables"
   ]
  },
  {
   "cell_type": "markdown",
   "id": "a93ba991-e7e3-4877-875a-4374cbf467b1",
   "metadata": {},
   "source": [
    "### inheritence"
   ]
  },
  {
   "cell_type": "code",
   "execution_count": 200,
   "id": "a32ae227-b0f1-4329-80e8-3923ae26ca52",
   "metadata": {},
   "outputs": [
    {
     "name": "stdout",
     "output_type": "stream",
     "text": [
      "this animal is eating\n",
      "This is rabbit\n"
     ]
    },
    {
     "data": {
      "text/plain": [
       "True"
      ]
     },
     "execution_count": 200,
     "metadata": {},
     "output_type": "execute_result"
    }
   ],
   "source": [
    "class Animal:\n",
    "    alive=True\n",
    "    def eat(self):\n",
    "        print(\"this animal is eating\")\n",
    "    def swim(self):\n",
    "        print(\"this animal can swin\")\n",
    "class Rabbit(Animal):\n",
    "    def r_info(self):\n",
    "        print(\"This is rabbit\")\n",
    "class Fish(Animal):\n",
    "    def f_info(self):\n",
    "        print(\"this is fish\")\n",
    "class eagle(Animal):\n",
    "    def e_info(self):\n",
    "        print(\"this is eagle\")\n",
    "    \n",
    "rabbit=Rabbit()\n",
    "rabbit.eat()\n",
    "rabbit.r_info()\n",
    "rabbit.alive\n",
    "    "
   ]
  },
  {
   "cell_type": "markdown",
   "id": "a4e8200e-5ab8-476d-8cfe-b21ce170ba19",
   "metadata": {},
   "source": [
    "### multilevel inheritence"
   ]
  },
  {
   "cell_type": "code",
   "execution_count": 30,
   "id": "481027f7-cd62-4d61-8a42-3cfdcc58b6f1",
   "metadata": {},
   "outputs": [
    {
     "name": "stdout",
     "output_type": "stream",
     "text": [
      "this is the child info\n",
      "this is parent info\n",
      "this is grand parent \n"
     ]
    },
    {
     "data": {
      "text/plain": [
       "4000"
      ]
     },
     "execution_count": 30,
     "metadata": {},
     "output_type": "execute_result"
    }
   ],
   "source": [
    "class Grand:\n",
    "    amount=4000\n",
    "    def ginfo(Self):\n",
    "        print(\"this is grand parent \")\n",
    "class Parent(Grand):\n",
    "    def pinfo(self):\n",
    "        print(\"this is parent info\")\n",
    "class child(Parent):\n",
    "    def cinfo(self):\n",
    "        print(\"this is the child info\")\n",
    "\n",
    "obj=child()\n",
    "obj.cinfo()\n",
    "obj.pinfo()\n",
    "obj.ginfo()\n",
    "obj.amount"
   ]
  },
  {
   "cell_type": "markdown",
   "id": "b0d23ff9-3166-4477-9015-887fb39bd37a",
   "metadata": {},
   "source": [
    "### multiple inheritecne"
   ]
  },
  {
   "cell_type": "code",
   "execution_count": 28,
   "id": "6af5e6a0-59a8-4a35-8bef-f8b8ada4ae17",
   "metadata": {},
   "outputs": [
    {
     "name": "stdout",
     "output_type": "stream",
     "text": [
      "this sis the mother info\n",
      "thsi is fatehr info\n"
     ]
    }
   ],
   "source": [
    "class Father:\n",
    "    amount=2000\n",
    "    def finfo(self):\n",
    "        print(\"thsi is fatehr info\")\n",
    "class Mother:\n",
    "    def minfo(self):\n",
    "        print(\"this sis the mother info\")\n",
    "class Child(Father,Mother):\n",
    "    def cinfo(self):\n",
    "        print(\"this is the child info\")\n",
    "obj=Child()\n",
    "obj.minfo()\n",
    "obj.finfo()\n"
   ]
  },
  {
   "cell_type": "code",
   "execution_count": null,
   "id": "1f868132-90ee-4978-81e6-1fcdd81c54d5",
   "metadata": {},
   "outputs": [],
   "source": []
  },
  {
   "cell_type": "markdown",
   "id": "4af5f7cf-368d-49cc-806c-c45bf25ff780",
   "metadata": {},
   "source": [
    "### method overriding"
   ]
  },
  {
   "cell_type": "code",
   "execution_count": 21,
   "id": "2ade71fa-0576-4e7c-9f9a-fafa78ee492f",
   "metadata": {},
   "outputs": [
    {
     "name": "stdout",
     "output_type": "stream",
     "text": [
      "This rabbit is eating a carrot\n"
     ]
    }
   ],
   "source": [
    "class Animal:\n",
    "    def eat(self):\n",
    "        print(\"This animal is eating\")\n",
    "class Rabbit(Animal):\n",
    "    def eat(self):   # mthod overriding\n",
    "        \n",
    "        print(\"This rabbit is eating a carrot\")\n",
    "rabbit = Rabbit()\n",
    "rabbit.eat()\n"
   ]
  },
  {
   "cell_type": "markdown",
   "id": "a229b8a7-4aa8-4f7b-a932-3fa271b19e69",
   "metadata": {},
   "source": [
    "### super method"
   ]
  },
  {
   "cell_type": "code",
   "execution_count": 35,
   "id": "8d28adcf-4c21-468a-ad19-ed24945f7a20",
   "metadata": {},
   "outputs": [
    {
     "name": "stdout",
     "output_type": "stream",
     "text": [
      "This rabbit is eating a carrot\n",
      "This animal is eating\n"
     ]
    }
   ],
   "source": [
    "class Animal:\n",
    "    def eat(self):\n",
    "        print(\"This animal is eating\")\n",
    "class Rabbit(Animal):\n",
    "    def eat(self):   # mthod overriding\n",
    "        print(\"This rabbit is eating a carrot\")\n",
    "        super().eat()\n",
    "        \n",
    "rabbit = Rabbit()\n",
    "rabbit.eat()"
   ]
  },
  {
   "cell_type": "markdown",
   "id": "128f08f1-8444-4548-a1e0-3fc7a9879147",
   "metadata": {},
   "source": [
    "### abstract class and method"
   ]
  },
  {
   "cell_type": "code",
   "execution_count": 40,
   "id": "abd03372-fe3b-47cf-910b-84bb238f4212",
   "metadata": {},
   "outputs": [
    {
     "name": "stdout",
     "output_type": "stream",
     "text": [
      "cars has 4 wheels\n",
      "speed is 60km/hr\n"
     ]
    }
   ],
   "source": [
    "\n",
    "from abc import ABC,abstractmethod\n",
    "class cars(ABC):\n",
    "    def show(self):\n",
    "        print(\"cars has 4 wheels\")\n",
    "    @abstractmethod\n",
    "    def speed(self):\n",
    "        pass\n",
    "class bmw(cars):\n",
    "    def speed(self):\n",
    "        print(\"speed is 60km/hr\")\n",
    "class suzuki(cars):\n",
    "    def speed(self):\n",
    "        print(\"spped is 90km/hr\")\n",
    "\n",
    "obj=bmw()\n",
    "obj.show()\n",
    "obj.speed()\n"
   ]
  },
  {
   "cell_type": "code",
   "execution_count": 2,
   "id": "41ee4c2a-5b6d-48ee-9af2-82ccfac3d973",
   "metadata": {},
   "outputs": [
    {
     "name": "stdout",
     "output_type": "stream",
     "text": [
      "hellwoorld\n"
     ]
    },
    {
     "data": {
      "text/plain": [
       "10"
      ]
     },
     "execution_count": 2,
     "metadata": {},
     "output_type": "execute_result"
    }
   ],
   "source": [
    "class helo:\n",
    "    _a=10\n",
    "    __a=35\n",
    "    def  info(self):\n",
    "        print(\"hellwoorld\")\n",
    "obj=helo()\n",
    "obj.info()\n",
    "obj._a\n",
    "#obj.__a  #cant access"
   ]
  },
  {
   "cell_type": "markdown",
   "id": "55293d7a-daee-476c-9659-86464fcb7845",
   "metadata": {},
   "source": [
    "### pancard validator\n",
    "\n"
   ]
  },
  {
   "cell_type": "code",
   "execution_count": 28,
   "id": "040f9390-48f4-4f71-9262-b493cb5170e4",
   "metadata": {},
   "outputs": [
    {
     "name": "stdin",
     "output_type": "stream",
     "text": [
      "Enter your PAN card number:  CEKPM4567S\n"
     ]
    },
    {
     "data": {
      "text/plain": [
       "'Pancard is valid'"
      ]
     },
     "execution_count": 28,
     "metadata": {},
     "output_type": "execute_result"
    }
   ],
   "source": [
    "# The PAN card number is a 10-character alphanumeric code.\n",
    "# The first five characters are letters (in uppercase).\n",
    "# The next four characters are numbers.\n",
    "# The last character is a letter.\n",
    "def display_invalid_message():\n",
    "    print(\"Sorry, your PAN card is invalid.\")\n",
    "def pan_validator(pan_number):\n",
    "    if len(pan_number) != 10:\n",
    "        return display_invalid_message()\n",
    "\n",
    "    for i in range(5):\n",
    "        if not pan_number[i].isalpha() or not pan_number[i].isupper():\n",
    "            return display_invalid_message()\n",
    "            \n",
    "    for i in range(5, 9):\n",
    "        if not pan_number[i].isdigit():\n",
    "           return display_invalid_message()\n",
    "    if not pan_number[-1].isalpha() or not pan_number[-1].isupper():\n",
    "        return display_invalid_message()\n",
    "\n",
    "    return \"Pancard is valid\"\n",
    "\n",
    "user = input(\"Enter your PAN card number: \")\n",
    "res = pan_validator(user)\n",
    "res"
   ]
  },
  {
   "cell_type": "markdown",
   "id": "587b616c-4a90-466e-a8f5-3b3b6041f005",
   "metadata": {},
   "source": [
    "### amstrong no\n"
   ]
  },
  {
   "cell_type": "code",
   "execution_count": 37,
   "id": "7eb89619-980c-45cb-b76f-fe0db529cf8d",
   "metadata": {},
   "outputs": [
    {
     "name": "stdout",
     "output_type": "stream",
     "text": [
      "amstrong no\n"
     ]
    }
   ],
   "source": [
    "a=153  \n",
    "b=str(a)\n",
    "l=len(b)\n",
    "res=sum([ int(i)**l for i in b])\n",
    "if res==a:\n",
    "    print(\"amstrong no\")\n",
    "else:\n",
    "    print(\"Not amstrog \")\n",
    "\n",
    "\n",
    "\n"
   ]
  },
  {
   "cell_type": "markdown",
   "id": "6680fa06-f08a-4a6c-9f20-649436e7ae6f",
   "metadata": {},
   "source": [
    "### python script to find the path is file or directory"
   ]
  },
  {
   "cell_type": "code",
   "execution_count": 1,
   "id": "0e75bebd-03c4-4613-b58d-54497d1d00e4",
   "metadata": {},
   "outputs": [
    {
     "name": "stdin",
     "output_type": "stream",
     "text": [
      "enter your path C:\\Users\\navee\\OneDrive\\Documents\\javeed\\python_interview_practice\n"
     ]
    },
    {
     "name": "stdout",
     "output_type": "stream",
     "text": [
      "path exists\n",
      "path is a dir\n"
     ]
    }
   ],
   "source": [
    "import os \n",
    "path=input(\"enter your path\")\n",
    "if os.path.exists(path):\n",
    "    print(\"path exists\")\n",
    "    if os.path.isfile(path):\n",
    "        print(\"path is having a file\")\n",
    "    else:\n",
    "        print(\"path is a dir\")\n",
    "else:\n",
    "    print(\"path doesnot exists\")"
   ]
  },
  {
   "cell_type": "markdown",
   "id": "30f2b842-a976-4a51-bcc6-c027ef845d63",
   "metadata": {},
   "source": [
    "### python script to find the content in a path(all dir and the files)"
   ]
  },
  {
   "cell_type": "code",
   "execution_count": 3,
   "id": "b46e51fa-97ff-4b2f-9d63-10d39eb1a072",
   "metadata": {},
   "outputs": [
    {
     "name": "stdin",
     "output_type": "stream",
     "text": [
      "enter the path  C:\\Users\\navee\\OneDrive\\Documents\\javeed\\python_interview_practice\n"
     ]
    },
    {
     "name": "stdout",
     "output_type": "stream",
     "text": [
      "path exists\n",
      "['.ipynb_checkpoints', 'json_se.txt', 'obj_byte.txt', 'python.ipynb']\n"
     ]
    }
   ],
   "source": [
    "import os \n",
    "path=input(\"enter the path \")\n",
    "if os.path.exists(path):\n",
    "    print(\"path exists\")\n",
    "    print(os.listdir(path))\n",
    "else:\n",
    "    print(\"path does not exists\")"
   ]
  },
  {
   "cell_type": "markdown",
   "id": "bc1743c0-7271-4eed-9e7d-fd4a8802a27a",
   "metadata": {},
   "source": [
    "### python script to find the dir and files in a path"
   ]
  },
  {
   "cell_type": "code",
   "execution_count": 6,
   "id": "5129e2c7-9dae-46d6-abb5-b24ad01e366a",
   "metadata": {},
   "outputs": [
    {
     "name": "stdin",
     "output_type": "stream",
     "text": [
      "Enter the path  C:\\Users\\navee\\OneDrive\\Documents\\javeed\\python_interview_practice\n"
     ]
    },
    {
     "name": "stdout",
     "output_type": "stream",
     "text": [
      "path exists\n",
      "C:\\Users\\navee\\OneDrive\\Documents\\javeed\\python_interview_practice\\.ipynb_checkpoints ------> dir\n",
      "C:\\Users\\navee\\OneDrive\\Documents\\javeed\\python_interview_practice\\json_se.txt -----> file\n",
      "C:\\Users\\navee\\OneDrive\\Documents\\javeed\\python_interview_practice\\obj_byte.txt -----> file\n",
      "C:\\Users\\navee\\OneDrive\\Documents\\javeed\\python_interview_practice\\python.ipynb -----> file\n"
     ]
    }
   ],
   "source": [
    "import os,sys\n",
    "path=input(\"Enter the path \")\n",
    "if os.path.exists(path):\n",
    "    print(\"path exists\")\n",
    "    for i in os.listdir(path):\n",
    "        complte_path=os.path.join(path,i)\n",
    "        if os.path.isfile(complte_path):\n",
    "            print(f\"{complte_path} -----> file\")\n",
    "        else:\n",
    "            print(f\"{complte_path} ------> dir\")\n",
    "else:\n",
    "    print(\"path does not exists\")\n",
    "    exit\n"
   ]
  },
  {
   "cell_type": "markdown",
   "id": "ee6372c1-54d5-4c2c-b1ac-cec30d5212f7",
   "metadata": {},
   "source": [
    "### print index along with its values in list "
   ]
  },
  {
   "cell_type": "code",
   "execution_count": 11,
   "id": "96092e1e-c06f-402c-b8fc-b707138d9898",
   "metadata": {},
   "outputs": [
    {
     "name": "stdout",
     "output_type": "stream",
     "text": [
      "index:0--->1\n",
      "index:1--->2\n",
      "index:2--->3\n",
      "index:3--->445\n",
      "index:4--->4\n",
      "index:5--->5\n",
      "index:6--->hi\n"
     ]
    }
   ],
   "source": [
    "a=[1,2,3,445,4,5,\"hi\"]\n",
    "for index,val in enumerate(a):\n",
    "    print(f\"index:{index}--->{val}\")\n",
    "\n",
    "    "
   ]
  },
  {
   "cell_type": "markdown",
   "id": "f362ad3e-2851-4a75-b894-59af877f7f1d",
   "metadata": {},
   "source": [
    "### list all the files in dir "
   ]
  },
  {
   "cell_type": "code",
   "execution_count": 18,
   "id": "92fb7197-a2b5-4403-bc6b-63691924a3c8",
   "metadata": {},
   "outputs": [
    {
     "name": "stdin",
     "output_type": "stream",
     "text": [
      "enter the  path C:\\Users\\navee\\OneDrive\\Documents\\javeed\\python_interview_practice\n"
     ]
    },
    {
     "data": {
      "text/plain": [
       "['.ipynb_checkpoints', 'json_se.txt', 'obj_byte.txt', 'python.ipynb']"
      ]
     },
     "execution_count": 18,
     "metadata": {},
     "output_type": "execute_result"
    }
   ],
   "source": [
    "import os \n",
    "path=input(\"enter the  path\")\n",
    "re=os.listdir(path)\n",
    "re"
   ]
  },
  {
   "cell_type": "markdown",
   "id": "d701beb4-9217-4401-9cb8-ae7a278a2bc5",
   "metadata": {},
   "source": [
    "### python script to find .py.sh.. extension files in directory"
   ]
  },
  {
   "cell_type": "code",
   "execution_count": 25,
   "id": "8e5d845b-482b-469a-9b4b-38bb53619c71",
   "metadata": {},
   "outputs": [
    {
     "name": "stdin",
     "output_type": "stream",
     "text": [
      "Enter the path C:\\Users\\navee\\OneDrive\\Documents\\javeed\\python_interview_practice\\json_se.txt\n"
     ]
    },
    {
     "name": "stdout",
     "output_type": "stream",
     "text": [
      "valid path\n",
      "But Please pass the  directory\n"
     ]
    }
   ],
   "source": [
    "import os\n",
    "path=input(\"Enter the path\")\n",
    "if os.path.exists(path):\n",
    "    print(\"valid path\")\n",
    "    if os.path.isfile(path):\n",
    "        print(\"But Please pass the  directory\")\n",
    "        exit\n",
    "    else:\n",
    "        r=os.listdir(path)\n",
    "        if len(r)==0:\n",
    "            print(\"there are no files\")\n",
    "        else:\n",
    "            files=[]\n",
    "            ext=input(\"Enter your extension\")\n",
    "            for i in r:\n",
    "               if i.endswith(ext):\n",
    "                   files.append(i)\n",
    "            if len(files)==0:\n",
    "                print(f\"There are no file with the extension {ext}\")\n",
    "            else:\n",
    "                for i in files:\n",
    "                    print(i)      \n",
    "else:\n",
    "    print(\"invalid path\")\n",
    "    "
   ]
  },
  {
   "cell_type": "markdown",
   "id": "c9f43449-c9ba-48eb-ae13-faa8a7a5e699",
   "metadata": {},
   "source": [
    "###  non repeated values form list\n"
   ]
  },
  {
   "cell_type": "code",
   "execution_count": 38,
   "id": "64f22369-72f9-4337-b246-199d005374da",
   "metadata": {},
   "outputs": [
    {
     "name": "stdout",
     "output_type": "stream",
     "text": [
      "5 8 "
     ]
    }
   ],
   "source": [
    "a=[1,2,2,4,4,5,2,1,2,4,7,7,8] \n",
    "for i in a:\n",
    "    if a.count(i)==1:\n",
    "        print(i,end=\" \" )\n"
   ]
  },
  {
   "cell_type": "markdown",
   "id": "4c34c42e-915f-42a2-bd7e-96a773a0229c",
   "metadata": {},
   "source": [
    "### sorting in alpha numeric "
   ]
  },
  {
   "cell_type": "code",
   "execution_count": 54,
   "id": "75d70e80-8b4c-470e-b0fb-0a613672eb9d",
   "metadata": {},
   "outputs": [
    {
     "name": "stdout",
     "output_type": "stream",
     "text": [
      "['A', 'D', 'B']\n",
      "['5', '2', '1']\n"
     ]
    }
   ],
   "source": [
    "a=\"A5D2B1\"\n",
    "al=[]\n",
    "num=[]\n",
    "for i in a:\n",
    "    if i.isalpha():\n",
    "        al.append(i)\n",
    "    else:\n",
    "        num.append(i)\n",
    "print(al)\n",
    "print(num)"
   ]
  },
  {
   "cell_type": "code",
   "execution_count": 62,
   "id": "9885bd7c-e54e-4c40-a526-927433d7eecc",
   "metadata": {},
   "outputs": [
    {
     "name": "stdout",
     "output_type": "stream",
     "text": [
      "ABD125\n"
     ]
    }
   ],
   "source": [
    "c=sorted(al)+sorted(num)\n",
    "print(\"\".join(c))"
   ]
  },
  {
   "cell_type": "markdown",
   "id": "be754669-dd19-44d0-982e-1a0d720d869d",
   "metadata": {},
   "source": [
    "### get teh elements from which are repeated mor than 3"
   ]
  },
  {
   "cell_type": "code",
   "execution_count": 64,
   "id": "fa07f810-261b-443f-95c4-2345b26cce99",
   "metadata": {},
   "outputs": [
    {
     "name": "stdout",
     "output_type": "stream",
     "text": [
      "['hat', 'cat']\n"
     ]
    }
   ],
   "source": [
    "a=[\"cat\",\"hat\",\"cat\",\"apple\",\"cat\",\"apple\",\"pat\",\"cat\",\"hat\",\"hat\"]\n",
    "b=[]\n",
    "for i in a:\n",
    "    if a.count(i)>=3:\n",
    "        b.append(i)\n",
    "print(list(set(b)))"
   ]
  },
  {
   "cell_type": "markdown",
   "id": "f84c3175-30fe-4143-a5e8-672aea8bdb59",
   "metadata": {},
   "source": [
    "### conevrt to binary and reverse the bits"
   ]
  },
  {
   "cell_type": "code",
   "execution_count": 70,
   "id": "70a35c02-316c-4db8-8cd2-35b0eb16bc4c",
   "metadata": {},
   "outputs": [
    {
     "data": {
      "text/plain": [
       "'0b110010'"
      ]
     },
     "execution_count": 70,
     "metadata": {},
     "output_type": "execute_result"
    }
   ],
   "source": [
    "a=50\n",
    "b=bin(a)\n",
    "b\n"
   ]
  },
  {
   "cell_type": "code",
   "execution_count": 77,
   "id": "ae254828-961f-4fde-a8d4-ec3ff85c428d",
   "metadata": {},
   "outputs": [
    {
     "name": "stdout",
     "output_type": "stream",
     "text": [
      "110010\n",
      "<class 'str'>\n"
     ]
    }
   ],
   "source": [
    "c=b[2:]\n",
    "print(c)\n",
    "print(type(c))"
   ]
  },
  {
   "cell_type": "code",
   "execution_count": 82,
   "id": "826acf15-6dfb-4097-9c31-75190eb0aa34",
   "metadata": {},
   "outputs": [
    {
     "data": {
      "text/plain": [
       "'001101'"
      ]
     },
     "execution_count": 82,
     "metadata": {},
     "output_type": "execute_result"
    }
   ],
   "source": [
    "d=\"\"\n",
    "for i in c:\n",
    "    if i==\"1\":\n",
    "        d=d+\"0\"\n",
    "    else:\n",
    "        d=d+\"1\"\n",
    "d"
   ]
  },
  {
   "cell_type": "markdown",
   "id": "cb5dcb8c-6681-4948-b2a2-713f695cc081",
   "metadata": {},
   "source": [
    "### Initialize max_product with the product of  two elements"
   ]
  },
  {
   "cell_type": "code",
   "execution_count": 94,
   "id": "fa6ca3ec-4177-4a18-9a22-995d8c53cb3f",
   "metadata": {},
   "outputs": [
    {
     "data": {
      "text/plain": [
       "[9, 8]"
      ]
     },
     "execution_count": 94,
     "metadata": {},
     "output_type": "execute_result"
    }
   ],
   "source": [
    "a = [1, 2, 3, 4, 5, 9, 8]\n",
    "b=0\n",
    "pair = []\n",
    "for i in range(len(a)):\n",
    "    for j in range(i+1, len(a)):\n",
    "        product = a[i] * a[j]\n",
    "        if product > b:\n",
    "            b = product\n",
    "            pair=[a[i],a[j]]\n",
    "pair\n"
   ]
  },
  {
   "cell_type": "code",
   "execution_count": 95,
   "id": "661736bb-d106-4f38-9cc1-afa34500312b",
   "metadata": {},
   "outputs": [
    {
     "data": {
      "text/plain": [
       "72"
      ]
     },
     "execution_count": 95,
     "metadata": {},
     "output_type": "execute_result"
    }
   ],
   "source": [
    "b"
   ]
  },
  {
   "cell_type": "markdown",
   "id": "e17a75a9-15f2-4866-9b67-8b18f3c754f9",
   "metadata": {},
   "source": [
    "### sum of two index vlaues must be eaual to nth value"
   ]
  },
  {
   "cell_type": "code",
   "execution_count": 97,
   "id": "cacb4871-82b1-4584-95c2-6df98d87c723",
   "metadata": {},
   "outputs": [
    {
     "data": {
      "text/plain": [
       "[0, 1]"
      ]
     },
     "execution_count": 97,
     "metadata": {},
     "output_type": "execute_result"
    }
   ],
   "source": [
    "a=[2,7,6,7,8,2]\n",
    "n=9\n",
    "res=[]\n",
    "for i in range(len(a)):\n",
    "    for j in range(i+1,len(a)):\n",
    "        if a[i]+a[j]==n and len(res)==0:\n",
    "            res.append(i)\n",
    "            res.append(j)\n",
    "res"
   ]
  },
  {
   "cell_type": "markdown",
   "id": "3a487e84-f15c-4d6a-ad3c-0e3553588891",
   "metadata": {},
   "source": [
    "### a3b4c5 ---> aaabbbbccccc"
   ]
  },
  {
   "cell_type": "code",
   "execution_count": 104,
   "id": "15ad39af-19ff-4760-8e83-70de1afc3923",
   "metadata": {},
   "outputs": [
    {
     "data": {
      "text/plain": [
       "'aaabbbbccccc'"
      ]
     },
     "execution_count": 104,
     "metadata": {},
     "output_type": "execute_result"
    }
   ],
   "source": [
    "a=\"a3b4c5\"\n",
    "al=[]\n",
    "num=[]\n",
    "for i in a:\n",
    "     if i.isalpha():\n",
    "         al.append(i)\n",
    "     else:\n",
    "         num.append(int(i))\n",
    "c=\"\"\n",
    "for a,v in zip(num,al):\n",
    "     c=c+a*v\n",
    "c\n",
    "    \n",
    "    "
   ]
  },
  {
   "cell_type": "markdown",
   "id": "e19bad27-3e18-4ac6-8fec-7d9315a21215",
   "metadata": {},
   "source": [
    "### make alpha and numeric into seperate list"
   ]
  },
  {
   "cell_type": "code",
   "execution_count": 110,
   "id": "697cf5ea-d903-4f21-a462-ff8418d9464c",
   "metadata": {},
   "outputs": [
    {
     "data": {
      "text/plain": [
       "['apple', 'banana', 'orange']"
      ]
     },
     "execution_count": 110,
     "metadata": {},
     "output_type": "execute_result"
    }
   ],
   "source": [
    "a=[\"appl23e1224\",\"2844ban45ana\",\"o45range48739\"]\n",
    "xx=[]\n",
    "yy=[]\n",
    "for i in a:\n",
    "    al=\"\"\n",
    "    num=\"\"\n",
    "    for j in i:\n",
    "        if j.isalpha():\n",
    "            al=al+j\n",
    "        else:\n",
    "            num=num+j\n",
    "    xx.append(al)\n",
    "    yy.append(num)\n",
    "xx"
   ]
  },
  {
   "cell_type": "code",
   "execution_count": 111,
   "id": "6968491c-951a-47c2-b211-134c02eb3315",
   "metadata": {},
   "outputs": [
    {
     "data": {
      "text/plain": [
       "['231224', '284445', '4548739']"
      ]
     },
     "execution_count": 111,
     "metadata": {},
     "output_type": "execute_result"
    }
   ],
   "source": [
    "yy"
   ]
  },
  {
   "cell_type": "markdown",
   "id": "2ef89c0c-dbd1-47c4-8116-7eab9dee0263",
   "metadata": {},
   "source": [
    "### [1,23,45,55,21] ---------> # [1, 5, 9, 10, 3]"
   ]
  },
  {
   "cell_type": "code",
   "execution_count": 121,
   "id": "7881a67d-772f-4578-ac41-edd65603b78a",
   "metadata": {},
   "outputs": [
    {
     "data": {
      "text/plain": [
       "[1, 5, 9, 10, 3]"
      ]
     },
     "execution_count": 121,
     "metadata": {},
     "output_type": "execute_result"
    }
   ],
   "source": [
    "a=[1,23,45,55,21]\n",
    "b= [str(i) for i in a]\n",
    "c=[]\n",
    "for j in b:\n",
    "    z=0\n",
    "    for k in j:\n",
    "        z=z+int(k)\n",
    "    c.append(z)\n",
    "c\n",
    "    \n",
    "        \n",
    "        "
   ]
  },
  {
   "cell_type": "markdown",
   "id": "51602e47-f448-4098-b9ec-6bb2faa2658d",
   "metadata": {},
   "source": [
    "### \"my45name89is\"  ------>si45eman45ym"
   ]
  },
  {
   "cell_type": "code",
   "execution_count": 131,
   "id": "0a327835-54a7-4555-9cca-2c4948eff6f2",
   "metadata": {},
   "outputs": [
    {
     "data": {
      "text/plain": [
       "'si45eman89ym'"
      ]
     },
     "execution_count": 131,
     "metadata": {},
     "output_type": "execute_result"
    }
   ],
   "source": [
    "a=\"my45name89is\"\n",
    "#si45eman45ym\n",
    "b=[ i for i in reversed(a) if i.isalpha()]\n",
    "c=\"\"\n",
    "i=0\n",
    "for j in a:\n",
    "    if j.isalpha():\n",
    "        c=c+b[i]\n",
    "        i=i+1\n",
    "    else:\n",
    "        c=c+j\n",
    "c\n",
    "        "
   ]
  },
  {
   "cell_type": "code",
   "execution_count": 138,
   "id": "d7d5a2c9-650c-4c49-8c8b-9327a99bdb26",
   "metadata": {},
   "outputs": [
    {
     "name": "stdout",
     "output_type": "stream",
     "text": [
      "siht si ohtyp ecitcarp\n"
     ]
    }
   ],
   "source": [
    "a=\"this is pytho practice\"\n",
    "b=a.split()\n",
    "c=\" \".join([i[::-1] for i in a.split()])\n",
    "print(c)"
   ]
  },
  {
   "cell_type": "markdown",
   "id": "40f67dcd-b2b4-465a-bec2-b61d70bb26ac",
   "metadata": {},
   "source": [
    "### adding two list"
   ]
  },
  {
   "cell_type": "code",
   "execution_count": 142,
   "id": "46a5950a-e170-4c6b-86aa-083735eba266",
   "metadata": {},
   "outputs": [
    {
     "name": "stdout",
     "output_type": "stream",
     "text": [
      "1 3\n",
      "2 4\n",
      "3 5\n",
      "4 6\n",
      "[4, 6, 8, 10]\n"
     ]
    }
   ],
   "source": [
    "s1=[1,2,3,4]\n",
    "s2=[3,4,5,6]\n",
    "a=[]\n",
    "for i,j in zip(s1,s2):\n",
    "    print(i,j)\n",
    "    a.append(i+j)\n",
    "print(a)"
   ]
  },
  {
   "cell_type": "markdown",
   "id": "4217de75-60a6-4a19-b0b2-47bb837bacfe",
   "metadata": {},
   "source": [
    "### print some thing without using print function"
   ]
  },
  {
   "cell_type": "code",
   "execution_count": 146,
   "id": "6a26912f-14bb-4e76-b0ba-c1033656ea72",
   "metadata": {},
   "outputs": [],
   "source": [
    "import sys\n"
   ]
  },
  {
   "cell_type": "code",
   "execution_count": 145,
   "id": "5ddee006-e9d3-41b4-bd7e-6d45a87a65e8",
   "metadata": {},
   "outputs": [
    {
     "data": {
      "text/plain": [
       "['__abstractmethods__',\n",
       " '__annotations__',\n",
       " '__class__',\n",
       " '__del__',\n",
       " '__delattr__',\n",
       " '__dict__',\n",
       " '__dir__',\n",
       " '__doc__',\n",
       " '__enter__',\n",
       " '__eq__',\n",
       " '__exit__',\n",
       " '__format__',\n",
       " '__ge__',\n",
       " '__getattribute__',\n",
       " '__getstate__',\n",
       " '__gt__',\n",
       " '__hash__',\n",
       " '__init__',\n",
       " '__init_subclass__',\n",
       " '__iter__',\n",
       " '__le__',\n",
       " '__lt__',\n",
       " '__module__',\n",
       " '__ne__',\n",
       " '__new__',\n",
       " '__next__',\n",
       " '__reduce__',\n",
       " '__reduce_ex__',\n",
       " '__repr__',\n",
       " '__setattr__',\n",
       " '__sizeof__',\n",
       " '__str__',\n",
       " '__subclasshook__',\n",
       " '_abc_impl',\n",
       " '_buffer',\n",
       " '_buffer_lock',\n",
       " '_checkClosed',\n",
       " '_checkReadable',\n",
       " '_checkSeekable',\n",
       " '_checkWritable',\n",
       " '_exc',\n",
       " '_flush',\n",
       " '_flush_buffer',\n",
       " '_flush_pending',\n",
       " '_hooks',\n",
       " '_io_loop',\n",
       " '_is_master_process',\n",
       " '_isatty',\n",
       " '_local',\n",
       " '_master_pid',\n",
       " '_rotate_buffer',\n",
       " '_schedule_flush',\n",
       " '_setup_stream_redirects',\n",
       " '_should_watch',\n",
       " '_subprocess_flush_pending',\n",
       " '_watch_pipe_fd',\n",
       " 'close',\n",
       " 'closed',\n",
       " 'detach',\n",
       " 'echo',\n",
       " 'encoding',\n",
       " 'errors',\n",
       " 'fileno',\n",
       " 'flush',\n",
       " 'flush_interval',\n",
       " 'flush_timeout',\n",
       " 'isatty',\n",
       " 'name',\n",
       " 'newlines',\n",
       " 'parent_header',\n",
       " 'pub_thread',\n",
       " 'read',\n",
       " 'readable',\n",
       " 'readline',\n",
       " 'readlines',\n",
       " 'register_hook',\n",
       " 'seek',\n",
       " 'seekable',\n",
       " 'session',\n",
       " 'set_parent',\n",
       " 'softspace',\n",
       " 'tell',\n",
       " 'topic',\n",
       " 'truncate',\n",
       " 'unregister_hook',\n",
       " 'writable',\n",
       " 'write',\n",
       " 'writelines']"
      ]
     },
     "execution_count": 145,
     "metadata": {},
     "output_type": "execute_result"
    }
   ],
   "source": [
    "dir(sys.stdout)\n"
   ]
  },
  {
   "cell_type": "code",
   "execution_count": 152,
   "id": "797b11f4-cafa-48ce-91d1-73a52d6a89a7",
   "metadata": {},
   "outputs": [
    {
     "name": "stdout",
     "output_type": "stream",
     "text": [
      "helloworld"
     ]
    }
   ],
   "source": [
    "sys.stdout.writelines(\"helloworld\")"
   ]
  },
  {
   "cell_type": "markdown",
   "id": "6790cc57-74a8-40d8-b795-90453409294d",
   "metadata": {},
   "source": [
    "### list common values from two list"
   ]
  },
  {
   "cell_type": "code",
   "execution_count": 156,
   "id": "bb5ac7fb-068f-42d0-b982-5063aa34818b",
   "metadata": {},
   "outputs": [
    {
     "data": {
      "text/plain": [
       "[4, 5]"
      ]
     },
     "execution_count": 156,
     "metadata": {},
     "output_type": "execute_result"
    }
   ],
   "source": [
    "list1 = [1, 2, 3, 4, 5]\n",
    "list2 = [4, 5, 6, 7, 8]\n",
    "list3=[]\n",
    "for i in list1:\n",
    "    if i in list2:\n",
    "        list3.append(i)\n",
    "list3"
   ]
  },
  {
   "cell_type": "markdown",
   "id": "054930a4-f22b-41d7-bca7-45bea2f629f6",
   "metadata": {},
   "source": [
    "### mergind tow dictinaries "
   ]
  },
  {
   "cell_type": "code",
   "execution_count": 168,
   "id": "4f9215dd-3e13-4e6f-8ad3-8d47e11c07ab",
   "metadata": {},
   "outputs": [
    {
     "data": {
      "text/plain": [
       "{'a': 1, 'b': 3, 'c': 4}"
      ]
     },
     "execution_count": 168,
     "metadata": {},
     "output_type": "execute_result"
    }
   ],
   "source": [
    "dict1 = {'a': 1, 'b': 2}\n",
    "dict2 = {'b': 3, 'c': 4}\n",
    "dict3={**dict1,**dict2}\n",
    "dict3"
   ]
  },
  {
   "cell_type": "code",
   "execution_count": 172,
   "id": "2284f931-ad40-4a24-ab25-94b36fbdbf13",
   "metadata": {},
   "outputs": [
    {
     "data": {
      "text/plain": [
       "['shubam gill', 'virat kohli', 'rohit sharma', 'yuvraj singh']"
      ]
     },
     "execution_count": 172,
     "metadata": {},
     "output_type": "execute_result"
    }
   ],
   "source": [
    "a=[\"virat kohli\",\"rohit sharma\",\"yuvraj singh\",\"shubam gill\"]\n",
    "b=sorted(a,key=lambda x:x.split()[1])\n",
    "b\n"
   ]
  },
  {
   "cell_type": "markdown",
   "id": "58f80853-51d5-46ab-99e1-0c664ab080ca",
   "metadata": {},
   "source": [
    "### \"aaaabbbccc\"--->4a3b3c"
   ]
  },
  {
   "cell_type": "code",
   "execution_count": 34,
   "id": "ff6edb18-889a-47f1-9ce3-0458c398e3db",
   "metadata": {},
   "outputs": [
    {
     "data": {
      "text/plain": [
       "'4a3b3c'"
      ]
     },
     "execution_count": 34,
     "metadata": {},
     "output_type": "execute_result"
    }
   ],
   "source": [
    "a=\"aaaabbbccc\"\n",
    "b=a[0]\n",
    "c=1\n",
    "re=\"\"\n",
    "for i in range(1,len(a)):\n",
    "    if a[i]==b:\n",
    "        c=c+1\n",
    "    else:\n",
    "        re=re+str(c)+b\n",
    "        b=a[i]\n",
    "        c=1\n",
    "re=re+str(c)+b\n",
    "re\n",
    "        \n",
    "    "
   ]
  },
  {
   "cell_type": "markdown",
   "id": "666c8e5a-c802-47f4-bf78-dcab210b6069",
   "metadata": {},
   "source": [
    "### first nonrepeatedcharacter"
   ]
  },
  {
   "cell_type": "code",
   "execution_count": 47,
   "id": "4dc4d81a-c6a5-42c6-b287-e5f9de4a849a",
   "metadata": {},
   "outputs": [
    {
     "name": "stdout",
     "output_type": "stream",
     "text": [
      "v\n"
     ]
    }
   ],
   "source": [
    "a=\"aabbvbd\"\n",
    "b={}\n",
    "for i in a:\n",
    "    if i in b:\n",
    "        b[i]=b[i]+1\n",
    "    else:\n",
    "        b[i]=1\n",
    "b\n",
    "for i,j in b.items():\n",
    "    if j==1:\n",
    "        print(i)\n",
    "        break"
   ]
  },
  {
   "cell_type": "markdown",
   "id": "2bfb6f0a-12f1-41a4-8f6c-b59e9a5d3add",
   "metadata": {},
   "source": [
    "### distict word in a sentence"
   ]
  },
  {
   "cell_type": "code",
   "execution_count": 67,
   "id": "04a030ef-b729-4d50-be92-082b910f84bb",
   "metadata": {},
   "outputs": [
    {
     "name": "stdout",
     "output_type": "stream",
     "text": [
      "pass\n"
     ]
    }
   ],
   "source": [
    "a=\"you have to find the distict word in a  sentence. You have to write a python programme\"\n",
    "def dis(a):\n",
    "    b=len(list(set(a.lower().split())))\n",
    "    return b\n",
    "assert dis(a)==13\n",
    "print(\"pass\")\n",
    "    \n",
    "    "
   ]
  },
  {
   "cell_type": "markdown",
   "id": "4c1116e3-f2a0-4f63-b6f5-7a69e14b40a4",
   "metadata": {},
   "source": [
    "### recurssion "
   ]
  },
  {
   "cell_type": "code",
   "execution_count": 76,
   "id": "58aefa9e-8b1a-481e-b175-22d3667affa1",
   "metadata": {},
   "outputs": [
    {
     "name": "stdout",
     "output_type": "stream",
     "text": [
      "10\n",
      "9\n",
      "8\n",
      "7\n",
      "6\n",
      "5\n",
      "4\n",
      "3\n",
      "2\n",
      "1\n"
     ]
    },
    {
     "data": {
      "text/plain": [
       "1"
      ]
     },
     "execution_count": 76,
     "metadata": {},
     "output_type": "execute_result"
    }
   ],
   "source": [
    "#when a function call itself is called a recurrsion\n",
    "def hello(n):\n",
    "    if n==0:\n",
    "        return 1 # stopping ondition \n",
    "    print(n)\n",
    "    return hello(n-1)\n",
    "hello(10)"
   ]
  },
  {
   "cell_type": "markdown",
   "id": "701691f9-03a6-4749-b8fb-cddc52dba94c",
   "metadata": {},
   "source": [
    "### recurssion factorial"
   ]
  },
  {
   "cell_type": "code",
   "execution_count": 82,
   "id": "2fe36d3e-dd7a-443e-adda-be20771773ab",
   "metadata": {},
   "outputs": [
    {
     "data": {
      "text/plain": [
       "120"
      ]
     },
     "execution_count": 82,
     "metadata": {},
     "output_type": "execute_result"
    }
   ],
   "source": [
    "def fac(n):\n",
    "    if n==0:\n",
    "        return 1\n",
    "    return n*fac(n-1)\n",
    "\n",
    "fac(5)\n",
    "    "
   ]
  },
  {
   "cell_type": "markdown",
   "id": "a54b3808-4184-4872-8072-291b398370c1",
   "metadata": {},
   "source": [
    "### recusrssion example print name without using loops"
   ]
  },
  {
   "cell_type": "code",
   "execution_count": 89,
   "id": "4116ee7f-468a-4225-869b-3287bb2be59c",
   "metadata": {},
   "outputs": [
    {
     "name": "stdout",
     "output_type": "stream",
     "text": [
      "hey\n",
      "hey\n",
      "hey\n",
      "hey\n",
      "hey\n",
      "hey\n",
      "hey\n",
      "hey\n",
      "hey\n",
      "hey\n"
     ]
    }
   ],
   "source": [
    "c=1\n",
    "def hello(name):\n",
    "    global c\n",
    "    if c<=10:\n",
    "        c=c+1\n",
    "        print(name)\n",
    "        return hello(name)\n",
    "hello(\"hey\")"
   ]
  },
  {
   "cell_type": "markdown",
   "id": "146b9cfa-9b44-44cb-ba58-b5f9d04bce13",
   "metadata": {},
   "source": [
    "###  remove files older than x days"
   ]
  },
  {
   "cell_type": "code",
   "execution_count": 32,
   "id": "7b6780fe-15ec-4014-b3bf-a48029009c7d",
   "metadata": {},
   "outputs": [
    {
     "name": "stdin",
     "output_type": "stream",
     "text": [
      "Enter your patha:  C:\\Users\\navee\\OneDrive\\Documents\\javeed\\python_interview_practice\n"
     ]
    },
    {
     "name": "stdout",
     "output_type": "stream",
     "text": [
      "C:\\Users\\navee\\OneDrive\\Documents\\javeed\\python_interview_practice\\json_se.txt 2\n",
      "C:\\Users\\navee\\OneDrive\\Documents\\javeed\\python_interview_practice\\obj_byte.txt 2\n"
     ]
    }
   ],
   "source": [
    "import os\n",
    "import sys\n",
    "import datetime\n",
    "present_time=datetime.datetime.now()\n",
    "path=input(\"Enter your patha: \")\n",
    "age=2\n",
    "if os.path.exists(path):\n",
    "    if os.path.isfile(path):\n",
    "        print(\"Please pass the dircetor path\")\n",
    "    else:\n",
    "        #print(os.listdir(path))\n",
    "        for i in os.listdir(path):\n",
    "            full_path=os.path.join(path,i)\n",
    "            if os.path.isfile(full_path):\n",
    "                # print(full_path)\n",
    "                # print(\"==========\")\n",
    "                file_created_date=datetime.datetime.fromtimestamp(os.path.getctime(full_path))\n",
    "                diff_days=(present_time-file_created_date).days\n",
    "                if diff_days==age:\n",
    "                    print(full_path,diff_days)           \n",
    "else:\n",
    "    print(\"Please pass valid path\")"
   ]
  },
  {
   "cell_type": "code",
   "execution_count": 39,
   "id": "31be9760-29ae-4cee-8ffb-a68ab212fa2b",
   "metadata": {},
   "outputs": [
    {
     "name": "stdout",
     "output_type": "stream",
     "text": [
      "[('C:\\\\Users\\\\navee\\\\OneDrive\\\\Documents\\\\javeed\\\\python_interview_practice', ['.ipynb_checkpoints', 'delete'], ['dg.txt', 'fgfg.txt', 'json_se.txt', 'obj_byte.txt', 'python.ipynb']), ('C:\\\\Users\\\\navee\\\\OneDrive\\\\Documents\\\\javeed\\\\python_interview_practice\\\\.ipynb_checkpoints', [], ['python-checkpoint.ipynb']), ('C:\\\\Users\\\\navee\\\\OneDrive\\\\Documents\\\\javeed\\\\python_interview_practice\\\\delete', [], [])]\n",
      "===========\n",
      "['dg.txt', 'fgfg.txt', 'json_se.txt', 'obj_byte.txt', 'python.ipynb']\n",
      "['python-checkpoint.ipynb']\n"
     ]
    }
   ],
   "source": [
    "import os   #root path, dir path,file\n",
    "a=list(os.walk(r\"C:\\Users\\navee\\OneDrive\\Documents\\javeed\\python_interview_practice\"))\n",
    "print(a)\n",
    "print(\"===========\")\n",
    "for r,d,f in a:\n",
    "    if len(f)!=0:\n",
    "        print(f)"
   ]
  },
  {
   "cell_type": "code",
   "execution_count": null,
   "id": "6cff3d2d-2795-4ad3-a153-288a4e627f64",
   "metadata": {},
   "outputs": [],
   "source": []
  }
 ],
 "metadata": {
  "kernelspec": {
   "display_name": "Python 3 (ipykernel)",
   "language": "python",
   "name": "python3"
  },
  "language_info": {
   "codemirror_mode": {
    "name": "ipython",
    "version": 3
   },
   "file_extension": ".py",
   "mimetype": "text/x-python",
   "name": "python",
   "nbconvert_exporter": "python",
   "pygments_lexer": "ipython3",
   "version": "3.11.4"
  }
 },
 "nbformat": 4,
 "nbformat_minor": 5
}

